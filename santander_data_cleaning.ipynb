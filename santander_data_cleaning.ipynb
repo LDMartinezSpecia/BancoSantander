{
  "nbformat": 4,
  "nbformat_minor": 0,
  "metadata": {
    "colab": {
      "name": "santander_data_cleaning.ipynb",
      "provenance": [],
      "collapsed_sections": []
    },
    "kernelspec": {
      "name": "python3",
      "display_name": "Python 3"
    },
    "language_info": {
      "name": "python"
    }
  },
  "cells": [
    {
      "cell_type": "markdown",
      "metadata": {
        "id": "PIriZGj0qTIs"
      },
      "source": [
        "**Initial Data Cleaning: **\n",
        "\n",
        "In this notebook, the data is cleaned and prepared for further analysis. The following steps are taken on order to arrive at the two datasets that are used in visualization and modeling:\n",
        "\n",
        "1) Remove employees and keep only active and inactive customers (not prospects or former customers).\n",
        "\n",
        "2) Remove \"null group\" customers which were found to have the same group of variables as null. This points to a potential systematic error with these records.\n",
        "\n",
        "3) Create the number of product variable which is a count of all products not including credit card (target).\n",
        "\n",
        "4) Remove clients with no products. \n",
        "\n",
        "5) Change data types and fill na's with 0 where necessary. \n",
        "\n",
        "6) Get only one row per customer (most current state of the customer not including churned relationships). \n",
        "\n",
        "7) Remove duplicates.\n",
        "\n",
        "At this point, the data is exported to be used in the data visualization portion of the project (santander_data_visualization.ipynb).\n",
        "\n",
        "8) Create a balanced sample by undersampling to select only as many negative outcomes of the target variable as we have positive ones. \n",
        "\n",
        "This dataset is then exported to be used for the modeling portion of the project (santander_model.ipynb). \n",
        "\n"
      ]
    },
    {
      "cell_type": "code",
      "metadata": {
        "id": "C9_XV5k_6rHE",
        "colab": {
          "base_uri": "https://localhost:8080/"
        },
        "outputId": "53669eb0-dd92-498a-cff9-e909e100f4fa"
      },
      "source": [
        "# Import necessary packages\n",
        "import numpy as np # for numerical analysis\n",
        "import pandas as pd # for data preparation and manipulation\n",
        "\n",
        "# Import dataset - replace file path with your location, train_ver2 is the main  \n",
        "# file available at https://www.kaggle.com/c/santander-product-recommendation/data\n",
        "df_train = pd.read_csv('/content/drive/MyDrive/Santander/train_ver2.csv')"
      ],
      "execution_count": 2,
      "outputs": [
        {
          "output_type": "stream",
          "name": "stderr",
          "text": [
            "/usr/local/lib/python3.7/dist-packages/IPython/core/interactiveshell.py:2718: DtypeWarning: Columns (5,8,11,15) have mixed types.Specify dtype option on import or set low_memory=False.\n",
            "  interactivity=interactivity, compiler=compiler, result=result)\n"
          ]
        }
      ]
    },
    {
      "cell_type": "code",
      "metadata": {
        "id": "tNxO6LUTffOh",
        "colab": {
          "base_uri": "https://localhost:8080/",
          "height": 307
        },
        "outputId": "783befa7-5f10-41af-b67b-3b20e884e2ae"
      },
      "source": [
        "# rename columns to english translations \n",
        "\n",
        "df_train.columns = ['date', 'customer_code', 'employee_index',\n",
        "                    'customer_country_residence', 'customer_sex', 'age', \n",
        "                    'start_of_relationship', 'new_customer_6mo', 'vintage', \n",
        "                    'primary_cust_to_non', 'last_date_as_primary',\n",
        "                    'customer_type', 'customer_relation_type', \n",
        "                    'residence_index', 'foreigner_index', \n",
        "                    'employee_spouse_index', 'channel_used_to_join',\n",
        "                    'deceased_index', 'address_type', 'province_code',\n",
        "                    'province_name', 'activity_index', 'gross_household_income',\n",
        "                    'segment', 'savings_account', 'guarantees',\n",
        "                    'current_accounts', 'derivada_account', 'payroll_account',\n",
        "                    'junior_account', 'mas_particular_account',\n",
        "                    'particular_account', 'particular_plus_account',\n",
        "                    'short_term_deposits', 'medium_term_deposits',\n",
        "                    'long_term_deposits', 'e_account', 'funds', 'mortgage',\n",
        "                    'retirement', 'loans', 'taxes', 'credit_card', 'securities',\n",
        "                    'home_account', 'payroll', 'pensions', 'direct_debit' ]\n",
        "\n",
        "df_train.head()"
      ],
      "execution_count": 3,
      "outputs": [
        {
          "output_type": "execute_result",
          "data": {
            "text/html": [
              "<div>\n",
              "<style scoped>\n",
              "    .dataframe tbody tr th:only-of-type {\n",
              "        vertical-align: middle;\n",
              "    }\n",
              "\n",
              "    .dataframe tbody tr th {\n",
              "        vertical-align: top;\n",
              "    }\n",
              "\n",
              "    .dataframe thead th {\n",
              "        text-align: right;\n",
              "    }\n",
              "</style>\n",
              "<table border=\"1\" class=\"dataframe\">\n",
              "  <thead>\n",
              "    <tr style=\"text-align: right;\">\n",
              "      <th></th>\n",
              "      <th>date</th>\n",
              "      <th>customer_code</th>\n",
              "      <th>employee_index</th>\n",
              "      <th>customer_country_residence</th>\n",
              "      <th>customer_sex</th>\n",
              "      <th>age</th>\n",
              "      <th>start_of_relationship</th>\n",
              "      <th>new_customer_6mo</th>\n",
              "      <th>vintage</th>\n",
              "      <th>primary_cust_to_non</th>\n",
              "      <th>last_date_as_primary</th>\n",
              "      <th>customer_type</th>\n",
              "      <th>customer_relation_type</th>\n",
              "      <th>residence_index</th>\n",
              "      <th>foreigner_index</th>\n",
              "      <th>employee_spouse_index</th>\n",
              "      <th>channel_used_to_join</th>\n",
              "      <th>deceased_index</th>\n",
              "      <th>address_type</th>\n",
              "      <th>province_code</th>\n",
              "      <th>province_name</th>\n",
              "      <th>activity_index</th>\n",
              "      <th>gross_household_income</th>\n",
              "      <th>segment</th>\n",
              "      <th>savings_account</th>\n",
              "      <th>guarantees</th>\n",
              "      <th>current_accounts</th>\n",
              "      <th>derivada_account</th>\n",
              "      <th>payroll_account</th>\n",
              "      <th>junior_account</th>\n",
              "      <th>mas_particular_account</th>\n",
              "      <th>particular_account</th>\n",
              "      <th>particular_plus_account</th>\n",
              "      <th>short_term_deposits</th>\n",
              "      <th>medium_term_deposits</th>\n",
              "      <th>long_term_deposits</th>\n",
              "      <th>e_account</th>\n",
              "      <th>funds</th>\n",
              "      <th>mortgage</th>\n",
              "      <th>retirement</th>\n",
              "      <th>loans</th>\n",
              "      <th>taxes</th>\n",
              "      <th>credit_card</th>\n",
              "      <th>securities</th>\n",
              "      <th>home_account</th>\n",
              "      <th>payroll</th>\n",
              "      <th>pensions</th>\n",
              "      <th>direct_debit</th>\n",
              "    </tr>\n",
              "  </thead>\n",
              "  <tbody>\n",
              "    <tr>\n",
              "      <th>0</th>\n",
              "      <td>2015-01-28</td>\n",
              "      <td>1375586</td>\n",
              "      <td>N</td>\n",
              "      <td>ES</td>\n",
              "      <td>H</td>\n",
              "      <td>35</td>\n",
              "      <td>2015-01-12</td>\n",
              "      <td>0.0</td>\n",
              "      <td>6</td>\n",
              "      <td>1.0</td>\n",
              "      <td>NaN</td>\n",
              "      <td>1</td>\n",
              "      <td>A</td>\n",
              "      <td>S</td>\n",
              "      <td>N</td>\n",
              "      <td>NaN</td>\n",
              "      <td>KHL</td>\n",
              "      <td>N</td>\n",
              "      <td>1.0</td>\n",
              "      <td>29.0</td>\n",
              "      <td>MALAGA</td>\n",
              "      <td>1.0</td>\n",
              "      <td>87218.10</td>\n",
              "      <td>02 - PARTICULARES</td>\n",
              "      <td>0</td>\n",
              "      <td>0</td>\n",
              "      <td>1</td>\n",
              "      <td>0</td>\n",
              "      <td>0</td>\n",
              "      <td>0</td>\n",
              "      <td>0</td>\n",
              "      <td>0</td>\n",
              "      <td>0</td>\n",
              "      <td>0</td>\n",
              "      <td>0</td>\n",
              "      <td>0</td>\n",
              "      <td>0</td>\n",
              "      <td>0</td>\n",
              "      <td>0</td>\n",
              "      <td>0</td>\n",
              "      <td>0</td>\n",
              "      <td>0</td>\n",
              "      <td>0</td>\n",
              "      <td>0</td>\n",
              "      <td>0</td>\n",
              "      <td>0.0</td>\n",
              "      <td>0.0</td>\n",
              "      <td>0</td>\n",
              "    </tr>\n",
              "    <tr>\n",
              "      <th>1</th>\n",
              "      <td>2015-01-28</td>\n",
              "      <td>1050611</td>\n",
              "      <td>N</td>\n",
              "      <td>ES</td>\n",
              "      <td>V</td>\n",
              "      <td>23</td>\n",
              "      <td>2012-08-10</td>\n",
              "      <td>0.0</td>\n",
              "      <td>35</td>\n",
              "      <td>1.0</td>\n",
              "      <td>NaN</td>\n",
              "      <td>1</td>\n",
              "      <td>I</td>\n",
              "      <td>S</td>\n",
              "      <td>S</td>\n",
              "      <td>NaN</td>\n",
              "      <td>KHE</td>\n",
              "      <td>N</td>\n",
              "      <td>1.0</td>\n",
              "      <td>13.0</td>\n",
              "      <td>CIUDAD REAL</td>\n",
              "      <td>0.0</td>\n",
              "      <td>35548.74</td>\n",
              "      <td>03 - UNIVERSITARIO</td>\n",
              "      <td>0</td>\n",
              "      <td>0</td>\n",
              "      <td>1</td>\n",
              "      <td>0</td>\n",
              "      <td>0</td>\n",
              "      <td>0</td>\n",
              "      <td>0</td>\n",
              "      <td>0</td>\n",
              "      <td>0</td>\n",
              "      <td>0</td>\n",
              "      <td>0</td>\n",
              "      <td>0</td>\n",
              "      <td>0</td>\n",
              "      <td>0</td>\n",
              "      <td>0</td>\n",
              "      <td>0</td>\n",
              "      <td>0</td>\n",
              "      <td>0</td>\n",
              "      <td>0</td>\n",
              "      <td>0</td>\n",
              "      <td>0</td>\n",
              "      <td>0.0</td>\n",
              "      <td>0.0</td>\n",
              "      <td>0</td>\n",
              "    </tr>\n",
              "    <tr>\n",
              "      <th>2</th>\n",
              "      <td>2015-01-28</td>\n",
              "      <td>1050612</td>\n",
              "      <td>N</td>\n",
              "      <td>ES</td>\n",
              "      <td>V</td>\n",
              "      <td>23</td>\n",
              "      <td>2012-08-10</td>\n",
              "      <td>0.0</td>\n",
              "      <td>35</td>\n",
              "      <td>1.0</td>\n",
              "      <td>NaN</td>\n",
              "      <td>1</td>\n",
              "      <td>I</td>\n",
              "      <td>S</td>\n",
              "      <td>N</td>\n",
              "      <td>NaN</td>\n",
              "      <td>KHE</td>\n",
              "      <td>N</td>\n",
              "      <td>1.0</td>\n",
              "      <td>13.0</td>\n",
              "      <td>CIUDAD REAL</td>\n",
              "      <td>0.0</td>\n",
              "      <td>122179.11</td>\n",
              "      <td>03 - UNIVERSITARIO</td>\n",
              "      <td>0</td>\n",
              "      <td>0</td>\n",
              "      <td>1</td>\n",
              "      <td>0</td>\n",
              "      <td>0</td>\n",
              "      <td>0</td>\n",
              "      <td>0</td>\n",
              "      <td>0</td>\n",
              "      <td>0</td>\n",
              "      <td>0</td>\n",
              "      <td>0</td>\n",
              "      <td>0</td>\n",
              "      <td>0</td>\n",
              "      <td>0</td>\n",
              "      <td>0</td>\n",
              "      <td>0</td>\n",
              "      <td>0</td>\n",
              "      <td>0</td>\n",
              "      <td>0</td>\n",
              "      <td>0</td>\n",
              "      <td>0</td>\n",
              "      <td>0.0</td>\n",
              "      <td>0.0</td>\n",
              "      <td>0</td>\n",
              "    </tr>\n",
              "    <tr>\n",
              "      <th>3</th>\n",
              "      <td>2015-01-28</td>\n",
              "      <td>1050613</td>\n",
              "      <td>N</td>\n",
              "      <td>ES</td>\n",
              "      <td>H</td>\n",
              "      <td>22</td>\n",
              "      <td>2012-08-10</td>\n",
              "      <td>0.0</td>\n",
              "      <td>35</td>\n",
              "      <td>1.0</td>\n",
              "      <td>NaN</td>\n",
              "      <td>1</td>\n",
              "      <td>I</td>\n",
              "      <td>S</td>\n",
              "      <td>N</td>\n",
              "      <td>NaN</td>\n",
              "      <td>KHD</td>\n",
              "      <td>N</td>\n",
              "      <td>1.0</td>\n",
              "      <td>50.0</td>\n",
              "      <td>ZARAGOZA</td>\n",
              "      <td>0.0</td>\n",
              "      <td>119775.54</td>\n",
              "      <td>03 - UNIVERSITARIO</td>\n",
              "      <td>0</td>\n",
              "      <td>0</td>\n",
              "      <td>0</td>\n",
              "      <td>0</td>\n",
              "      <td>0</td>\n",
              "      <td>0</td>\n",
              "      <td>0</td>\n",
              "      <td>0</td>\n",
              "      <td>0</td>\n",
              "      <td>1</td>\n",
              "      <td>0</td>\n",
              "      <td>0</td>\n",
              "      <td>0</td>\n",
              "      <td>0</td>\n",
              "      <td>0</td>\n",
              "      <td>0</td>\n",
              "      <td>0</td>\n",
              "      <td>0</td>\n",
              "      <td>0</td>\n",
              "      <td>0</td>\n",
              "      <td>0</td>\n",
              "      <td>0.0</td>\n",
              "      <td>0.0</td>\n",
              "      <td>0</td>\n",
              "    </tr>\n",
              "    <tr>\n",
              "      <th>4</th>\n",
              "      <td>2015-01-28</td>\n",
              "      <td>1050614</td>\n",
              "      <td>N</td>\n",
              "      <td>ES</td>\n",
              "      <td>V</td>\n",
              "      <td>23</td>\n",
              "      <td>2012-08-10</td>\n",
              "      <td>0.0</td>\n",
              "      <td>35</td>\n",
              "      <td>1.0</td>\n",
              "      <td>NaN</td>\n",
              "      <td>1</td>\n",
              "      <td>A</td>\n",
              "      <td>S</td>\n",
              "      <td>N</td>\n",
              "      <td>NaN</td>\n",
              "      <td>KHE</td>\n",
              "      <td>N</td>\n",
              "      <td>1.0</td>\n",
              "      <td>50.0</td>\n",
              "      <td>ZARAGOZA</td>\n",
              "      <td>1.0</td>\n",
              "      <td>NaN</td>\n",
              "      <td>03 - UNIVERSITARIO</td>\n",
              "      <td>0</td>\n",
              "      <td>0</td>\n",
              "      <td>1</td>\n",
              "      <td>0</td>\n",
              "      <td>0</td>\n",
              "      <td>0</td>\n",
              "      <td>0</td>\n",
              "      <td>0</td>\n",
              "      <td>0</td>\n",
              "      <td>0</td>\n",
              "      <td>0</td>\n",
              "      <td>0</td>\n",
              "      <td>0</td>\n",
              "      <td>0</td>\n",
              "      <td>0</td>\n",
              "      <td>0</td>\n",
              "      <td>0</td>\n",
              "      <td>0</td>\n",
              "      <td>0</td>\n",
              "      <td>0</td>\n",
              "      <td>0</td>\n",
              "      <td>0.0</td>\n",
              "      <td>0.0</td>\n",
              "      <td>0</td>\n",
              "    </tr>\n",
              "  </tbody>\n",
              "</table>\n",
              "</div>"
            ],
            "text/plain": [
              "         date  customer_code employee_index  ... payroll pensions direct_debit\n",
              "0  2015-01-28        1375586              N  ...     0.0      0.0            0\n",
              "1  2015-01-28        1050611              N  ...     0.0      0.0            0\n",
              "2  2015-01-28        1050612              N  ...     0.0      0.0            0\n",
              "3  2015-01-28        1050613              N  ...     0.0      0.0            0\n",
              "4  2015-01-28        1050614              N  ...     0.0      0.0            0\n",
              "\n",
              "[5 rows x 48 columns]"
            ]
          },
          "metadata": {},
          "execution_count": 3
        }
      ]
    },
    {
      "cell_type": "code",
      "metadata": {
        "colab": {
          "base_uri": "https://localhost:8080/"
        },
        "id": "mER_PPdxK-_L",
        "outputId": "b9e6ce54-cae6-43bc-807a-797c3bed0944"
      },
      "source": [
        "# Show percent of null values by column\n",
        "df_train.isnull().mean()"
      ],
      "execution_count": null,
      "outputs": [
        {
          "output_type": "execute_result",
          "data": {
            "text/plain": [
              "date                          0.000000\n",
              "customer_code                 0.000000\n",
              "employee_index                0.002032\n",
              "customer_country_residence    0.002032\n",
              "customer_sex                  0.002037\n",
              "age                           0.000000\n",
              "start_of_relationship         0.002032\n",
              "new_customer_6mo              0.002032\n",
              "vintage                       0.000000\n",
              "primary_cust_to_non           0.002032\n",
              "last_date_as_primary          0.998183\n",
              "customer_type                 0.010975\n",
              "customer_relation_type        0.010975\n",
              "residence_index               0.002032\n",
              "foreigner_index               0.002032\n",
              "employee_spouse_index         0.999868\n",
              "channel_used_to_join          0.013638\n",
              "deceased_index                0.002032\n",
              "address_type                  0.002032\n",
              "province_code                 0.006858\n",
              "province_name                 0.006858\n",
              "activity_index                0.002032\n",
              "gross_household_income        0.204756\n",
              "segment                       0.013876\n",
              "savings_account               0.000000\n",
              "guarantees                    0.000000\n",
              "current_accounts              0.000000\n",
              "derivada_account              0.000000\n",
              "payroll_account               0.000000\n",
              "junior_account                0.000000\n",
              "mas_particular_account        0.000000\n",
              "particular_account            0.000000\n",
              "particular_plus_account       0.000000\n",
              "short_term_deposits           0.000000\n",
              "medium_term_deposits          0.000000\n",
              "long_term_deposits            0.000000\n",
              "e_account                     0.000000\n",
              "funds                         0.000000\n",
              "mortgage                      0.000000\n",
              "retirement                    0.000000\n",
              "loans                         0.000000\n",
              "taxes                         0.000000\n",
              "credit_card                   0.000000\n",
              "securities                    0.000000\n",
              "home_account                  0.000000\n",
              "payroll                       0.001177\n",
              "pensions                      0.001177\n",
              "direct_debit                  0.000000\n",
              "dtype: float64"
            ]
          },
          "metadata": {
            "tags": []
          },
          "execution_count": 3
        }
      ]
    },
    {
      "cell_type": "code",
      "metadata": {
        "colab": {
          "base_uri": "https://localhost:8080/"
        },
        "id": "GnQmLHqINouM",
        "outputId": "9fc612b4-c093-42e9-eed0-4ec3ed231430"
      },
      "source": [
        "# Show column data type\n",
        "df_train.dtypes"
      ],
      "execution_count": null,
      "outputs": [
        {
          "output_type": "execute_result",
          "data": {
            "text/plain": [
              "date                           object\n",
              "customer_code                   int64\n",
              "employee_index                 object\n",
              "customer_country_residence     object\n",
              "customer_sex                   object\n",
              "age                            object\n",
              "start_of_relationship          object\n",
              "new_customer_6mo              float64\n",
              "vintage                        object\n",
              "primary_cust_to_non           float64\n",
              "last_date_as_primary           object\n",
              "customer_type                  object\n",
              "customer_relation_type         object\n",
              "residence_index                object\n",
              "foreigner_index                object\n",
              "employee_spouse_index          object\n",
              "channel_used_to_join           object\n",
              "deceased_index                 object\n",
              "address_type                  float64\n",
              "province_code                 float64\n",
              "province_name                  object\n",
              "activity_index                float64\n",
              "gross_household_income        float64\n",
              "segment                        object\n",
              "savings_account                 int64\n",
              "guarantees                      int64\n",
              "current_accounts                int64\n",
              "derivada_account                int64\n",
              "payroll_account                 int64\n",
              "junior_account                  int64\n",
              "mas_particular_account          int64\n",
              "particular_account              int64\n",
              "particular_plus_account         int64\n",
              "short_term_deposits             int64\n",
              "medium_term_deposits            int64\n",
              "long_term_deposits              int64\n",
              "e_account                       int64\n",
              "funds                           int64\n",
              "mortgage                        int64\n",
              "retirement                      int64\n",
              "loans                           int64\n",
              "taxes                           int64\n",
              "credit_card                     int64\n",
              "securities                      int64\n",
              "home_account                    int64\n",
              "payroll                       float64\n",
              "pensions                      float64\n",
              "direct_debit                    int64\n",
              "dtype: object"
            ]
          },
          "metadata": {
            "tags": []
          },
          "execution_count": 7
        }
      ]
    },
    {
      "cell_type": "code",
      "metadata": {
        "id": "P5E6IDrKfJLg"
      },
      "source": [
        "# Remove employees from data\n",
        "df_train =  df_train[df_train.employee_index == 'N']\n",
        "\n",
        "# Keep only active or inactive customers\n",
        "bool_series = df_train.customer_relation_type.isin(['A','I'])\n",
        "df_train = df_train[bool_series]\n",
        "\n",
        "# Remove \"null group\" columns - those with null values in these columns are null\n",
        "# in several others. Removing these groups deals with many of the null values\n",
        "df_train = df_train.dropna(subset=['customer_sex'])\n",
        "df_train = df_train.dropna(subset=['customer_type'])"
      ],
      "execution_count": null,
      "outputs": []
    },
    {
      "cell_type": "code",
      "metadata": {
        "id": "L-SwWQ2z8Ssz"
      },
      "source": [
        "# replace na's with zero\n",
        "df_train = df_train.apply(lambda x: \n",
        "                          x.fillna(0) if x.name in ['payroll', \n",
        "                                                    'pensions', \n",
        "                                                    'employee_spouse_index'] \n",
        "                          else x) \n",
        "\n",
        "# Create Number of Products Column\n",
        "df_train['number_of_products'] = (df_train['savings_account'] + \n",
        "                                  df_train['guarantees'] + \n",
        "                                  df_train['current_accounts'] + \n",
        "                                  df_train['derivada_account'] + \n",
        "                                  df_train['payroll_account']+ \n",
        "                                  df_train['junior_account'] + \n",
        "                                  df_train['mas_particular_account'] + \n",
        "                                  df_train['particular_account'] + \n",
        "                                  df_train['particular_plus_account'] + \n",
        "                                  df_train['short_term_deposits'] + \n",
        "                                  df_train['medium_term_deposits'] + \n",
        "                                  df_train['long_term_deposits'] + \n",
        "                                  df_train['e_account'] + df_train['funds'] + \n",
        "                                  df_train['mortgage'] + \n",
        "                                  df_train['retirement'] + \n",
        "                                  df_train['loans'] + \n",
        "                                  df_train['taxes'] + \n",
        "                                  df_train['securities'] + \n",
        "                                  df_train['home_account'] + \n",
        "                                  df_train['payroll'] + df_train['pensions'] + \n",
        "                                  df_train['direct_debit'] ) \n",
        "\n",
        "#Remove churned clients froim dataset (had 0 products)\n",
        "df_train =  df_train[df_train.number_of_products > 0]\n",
        "\n",
        "# Convert vintage to numeric variable\n",
        "df_train[\"vintage\"] = pd.to_numeric(df_train[\"vintage\"], errors = 'coerce', \n",
        "                                    downcast = 'integer')\n",
        "\n",
        "#Keep the last record for all customers \n",
        "df_train = df_train[df_train.groupby(\n",
        "    'customer_code')['vintage'].transform('max') == df_train['vintage']]\n",
        "\n",
        "#Remove any duplicate records\n",
        "df_train.drop_duplicates(subset =\"customer_code\", keep = 'last', inplace = True)\n"
      ],
      "execution_count": null,
      "outputs": []
    },
    {
      "cell_type": "code",
      "metadata": {
        "colab": {
          "base_uri": "https://localhost:8080/"
        },
        "id": "7QiOd4kWMC3l",
        "outputId": "fd55e640-6143-495a-8d42-ab41eae1c7f7"
      },
      "source": [
        "df_train.shape"
      ],
      "execution_count": null,
      "outputs": [
        {
          "output_type": "execute_result",
          "data": {
            "text/plain": [
              "(720741, 49)"
            ]
          },
          "metadata": {
            "tags": []
          },
          "execution_count": 4
        }
      ]
    },
    {
      "cell_type": "code",
      "metadata": {
        "id": "i1AjMi4f7Ie4"
      },
      "source": [
        "# Save \"clean\" dataset to csv, this file is used for data visualization\n",
        "df_sample.to_csv('df_sample.csv')\n",
        "!cp df_sample.csv '/content/drive/MyDrive/Santander'"
      ],
      "execution_count": null,
      "outputs": []
    },
    {
      "cell_type": "code",
      "metadata": {
        "colab": {
          "base_uri": "https://localhost:8080/"
        },
        "id": "PnnCDJlmMG6y",
        "outputId": "f5baf75e-e069-4fd5-ad81-a6c52236cf60"
      },
      "source": [
        "# Showing the distribution of the target variable shows a strong class imbalance\n",
        "# in the target variable (credit_card)\n",
        "df_train.credit_card.value_counts()"
      ],
      "execution_count": null,
      "outputs": [
        {
          "output_type": "execute_result",
          "data": {
            "text/plain": [
              "0    686806\n",
              "1     33935\n",
              "Name: credit_card, dtype: int64"
            ]
          },
          "metadata": {
            "tags": []
          },
          "execution_count": 5
        }
      ]
    },
    {
      "cell_type": "code",
      "metadata": {
        "id": "L1MPrKl9BW3F"
      },
      "source": [
        "# Undersampling to create a balanced (and smaller) dataset\n",
        "\n",
        "# Get the number of obs. with a positive target outcome\n",
        "num_cc_cust = len(df_train[df_train['credit_card'] == 1])\n",
        "\n",
        "# Get indices for customers with no credit card\n",
        "no_cc_indices = df_train[df_train.credit_card == 0].index \n",
        "\n",
        "# Pick list of random indices of same number as there are positive obs. \n",
        "random_no_cc_indices = np.random.choice(no_cc_indices, \n",
        "                                        num_cc_cust, replace=False) \n",
        "\n",
        " # Get indices of positive observations\n",
        "cc_indices = df_train[df_train.credit_card == 1].index\n",
        "\n",
        "# Combine indices of credit card and selected non credit card customers\n",
        "under_sample_indices = np.concatenate([random_no_cc_indices, cc_indices]) \n",
        "\n",
        "# Sample balanced dataset from original dataset\n",
        "df_sample = df_train.loc[under_sample_indices] "
      ],
      "execution_count": null,
      "outputs": []
    },
    {
      "cell_type": "code",
      "metadata": {
        "colab": {
          "base_uri": "https://localhost:8080/"
        },
        "id": "F5P2q1_uOvoa",
        "outputId": "b147fcfa-0e75-4c2f-a700-b9e9b6282e3e"
      },
      "source": [
        "print(df_sample.shape) # New dataset size\n",
        "print(df_sample.credit_card.value_counts()) # New distribution of target variable "
      ],
      "execution_count": null,
      "outputs": [
        {
          "output_type": "stream",
          "text": [
            "(67870, 49)\n",
            "1    33935\n",
            "0    33935\n",
            "Name: credit_card, dtype: int64\n"
          ],
          "name": "stdout"
        }
      ]
    },
    {
      "cell_type": "code",
      "metadata": {
        "id": "UqBWt_EmP9AL"
      },
      "source": [
        "# Save undersampled dataset to csv, this file is used in modeling \n",
        "df_sample.to_csv('df_u_sample.csv')\n",
        "!cp df_u_sample.csv '/content/drive/MyDrive/Santander'"
      ],
      "execution_count": null,
      "outputs": []
    }
  ]
}